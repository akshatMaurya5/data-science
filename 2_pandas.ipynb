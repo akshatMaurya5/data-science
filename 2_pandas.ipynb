{
 "cells": [
  {
   "cell_type": "code",
   "execution_count": 1,
   "metadata": {},
   "outputs": [],
   "source": [
    "import pandas as pd"
   ]
  },
  {
   "cell_type": "markdown",
   "metadata": {},
   "source": [
    "Series (1-dimensional)\n",
    "\n",
    "DataFrame (2-dimensional, like a spreadsheet)"
   ]
  },
  {
   "cell_type": "code",
   "execution_count": null,
   "metadata": {},
   "outputs": [
    {
     "name": "stdout",
     "output_type": "stream",
     "text": [
      "      Name  Age      City\n",
      "0    Alice   25  New York\n",
      "1      Bob   30     Paris\n",
      "2  Charlie   35    London\n",
      "-------------NAME-----------------------\n",
      "0      Alice\n",
      "1        Bob\n",
      "2    Charlie\n",
      "Name: Name, dtype: object\n",
      "-----------------NAME AND AGE-------------------\n",
      "      Name  Age\n",
      "0    Alice   25\n",
      "1      Bob   30\n",
      "2  Charlie   35\n",
      "------------------SECOND ROW------------------\n",
      "Name      Bob\n",
      "Age        30\n",
      "City    Paris\n",
      "Name: 1, dtype: object\n",
      "---------------FILTERING ROW---------------------\n",
      "      Name  Age    City\n",
      "1      Bob   30   Paris\n",
      "2  Charlie   35  London\n"
     ]
    }
   ],
   "source": [
    "data = {\n",
    "    'Name': ['Alice', 'Bob', 'Charlie'],\n",
    "    'Age': [25, 30, 35],\n",
    "    'City': ['New York', 'Paris', 'London']\n",
    "}\n",
    "\n",
    "df = pd.DataFrame(data)\n",
    "\n",
    "print(df)\n",
    "print(\"-------------NAME-----------------------\")\n",
    "\n",
    "print(df['Name'])  # Select a column\n",
    "print(\"-----------------NAME AND AGE-------------------\")\n",
    "print(df[['Name', 'Age']])  # Select multiple columns\n",
    "print(\"------------------SECOND ROW------------------\")\n",
    "print(df.iloc[1])  # Select second row (index starts at 0)\n",
    "print(\"---------------FILTERING ROW---------------------\")\n",
    "print(df.loc[df['Age'] > 25])  # Filter rows\n",
    "\n",
    "\n",
    "\n",
    "\n",
    "\n",
    "## HANDLING MISSING VALUES\n",
    "\n",
    "\n",
    "df.fillna(0, inplace=True)  # Replace NaN with 0\n",
    "df.dropna(inplace=True)  # Remove rows with NaN values\n",
    "\n"
   ]
  },
  {
   "cell_type": "code",
   "execution_count": null,
   "metadata": {},
   "outputs": [],
   "source": [
    "df = pd.read_csv(\"data.csv\")  # Replace with your file path\n",
    "print(df.head())  # Show first 5 rows\n"
   ]
  },
  {
   "cell_type": "code",
   "execution_count": null,
   "metadata": {},
   "outputs": [],
   "source": [
    "print(df.info())  # Summary of the dataset\n",
    "print(df.describe())  # Statistics for numerical columns\n",
    "print(df.columns)  # Column names\n",
    "print(df.shape)  # Number of rows and columns\n"
   ]
  },
  {
   "cell_type": "markdown",
   "metadata": {},
   "source": [
    "Merging and Joining"
   ]
  },
  {
   "cell_type": "code",
   "execution_count": 13,
   "metadata": {},
   "outputs": [
    {
     "name": "stdout",
     "output_type": "stream",
     "text": [
      "   ID Name  Score\n",
      "0   1    A     85\n",
      "1   2    B     90\n",
      "2   3    C     95\n"
     ]
    }
   ],
   "source": [
    "df1 = pd.DataFrame({'ID': [1, 2, 3], 'Name': ['A', 'B', 'C']})\n",
    "df2 = pd.DataFrame({'ID': [1, 2, 3], 'Score': [85, 90, 95]})\n",
    "\n",
    "merged_df = pd.merge(df1, df2, on='ID')\n",
    "print(merged_df)\n"
   ]
  }
 ],
 "metadata": {
  "kernelspec": {
   "display_name": "Python 3",
   "language": "python",
   "name": "python3"
  },
  "language_info": {
   "codemirror_mode": {
    "name": "ipython",
    "version": 3
   },
   "file_extension": ".py",
   "mimetype": "text/x-python",
   "name": "python",
   "nbconvert_exporter": "python",
   "pygments_lexer": "ipython3",
   "version": "3.11.7"
  }
 },
 "nbformat": 4,
 "nbformat_minor": 2
}
